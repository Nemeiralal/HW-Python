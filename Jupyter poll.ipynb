{
 "cells": [
  {
   "cell_type": "code",
   "execution_count": 12,
   "metadata": {},
   "outputs": [
    {
     "name": "stdout",
     "output_type": "stream",
     "text": [
      "Election Results\n",
      "----------------------------------------\n",
      "Total Votes: 3521001\n",
      "----------------------------------------\n",
      "Khan: 63.0% (2218231)\n",
      "Correy: 20.0% (704200)\n",
      "Li: 14.0% (492940)\n",
      "O'Tooley: 3.0% (105630)\n",
      "----------------------------------------\n",
      "Winner: Khan\n",
      "----------------------------------------\n",
      "The Result is also stored as/at _Result.txt\n",
      "\n"
     ]
    }
   ],
   "source": [
    "import os\n",
    "import csv\n",
    "\n",
    "csvpath=os.path.join('election_data.csv')\n",
    "\n",
    "with open(csvpath, newline=\"\") as csvfile:\n",
    "    csvreader = csv.reader(csvfile, delimiter=\",\")\n",
    "    csv_header = next(csvfile)\n",
    "    \n",
    "    Candidates = {}\n",
    "    Count = 0\n",
    "    Votes_Cast = 0\n",
    "    percent_of_votes = 0\n",
    "    Most_Votes = 0\n",
    "    Most_Voted = \"\"\n",
    "    outputContents = []\n",
    "    \n",
    "    \n",
    "    for row in csvreader:\n",
    "        \n",
    "        # Total votes casted\n",
    "        candidate = row[2]\n",
    "        Count += 1\n",
    "        if candidate in Candidates.keys():\n",
    "            Candidates[candidate] += 1\n",
    "        else:\n",
    "            Candidates[candidate] = 1\n",
    "        #print(Candidates)\n",
    "    \n",
    "    \n",
    "    # Print Statements\n",
    "    outputContents.append(\"Election Results\")\n",
    "    outputContents.append(\"----------------------------------------\")\n",
    "    outputContents.append(\"Total Votes: \"+ str(Count))\n",
    "    outputContents.append(\"----------------------------------------\")\n",
    "    \n",
    "            \n",
    "    #total number of votes for each candidate\n",
    "    for candidate in Candidates:\n",
    "        Votes_Cast = Candidates[candidate]\n",
    "    \n",
    "        # percent of votes for each candidate\n",
    "        percent_of_votes = (Candidates[candidate])/(Count) * 100\n",
    "        outputContents.append(candidate+\": \"+ str(round(percent_of_votes,3))+\"% \"+ \"(\"+str(Votes_Cast)+\")\")\n",
    "        \n",
    "        if Candidates[candidate] > Most_Votes:\n",
    "            Most_Voted = candidate\n",
    "            Most_Votes = Candidates[candidate]\n",
    "        \n",
    "        output_file_path = os.path.join('election_data.csv'.split(\".\")[0] + \"_Result.txt\")\n",
    "        result_buffer = open(output_file_path, \"w\")\n",
    "        \n",
    "    \n",
    "    #Print the winner's name\n",
    "    outputContents.append(\"----------------------------------------\")\n",
    "    outputContents.append(\"Winner: \"+ str(Most_Voted))\n",
    "    outputContents.append(\"----------------------------------------\")\n",
    "    outputContents.append(\"The Result is also stored as/at _Result.txt\")\n",
    "\n",
    "    \n",
    "\n",
    "    for outputContent in outputContents:\n",
    "        print(outputContent)\n",
    "        if outputContent != outputContents[-1]:\n",
    "          print(outputContent,file=result_buffer)\n",
    "        \n",
    "    print()\n",
    "    \n",
    "    result_buffer.close()\n",
    "\n",
    "    \n",
    "\n",
    "        "
   ]
  },
  {
   "cell_type": "code",
   "execution_count": 13,
   "metadata": {},
   "outputs": [],
   "source": [
    "import pandas as pd"
   ]
  },
  {
   "cell_type": "code",
   "execution_count": 14,
   "metadata": {},
   "outputs": [],
   "source": [
    "df = pd.read_csv(\"election_data.csv\")"
   ]
  },
  {
   "cell_type": "code",
   "execution_count": 15,
   "metadata": {},
   "outputs": [
    {
     "data": {
      "text/html": [
       "<div>\n",
       "<style scoped>\n",
       "    .dataframe tbody tr th:only-of-type {\n",
       "        vertical-align: middle;\n",
       "    }\n",
       "\n",
       "    .dataframe tbody tr th {\n",
       "        vertical-align: top;\n",
       "    }\n",
       "\n",
       "    .dataframe thead th {\n",
       "        text-align: right;\n",
       "    }\n",
       "</style>\n",
       "<table border=\"1\" class=\"dataframe\">\n",
       "  <thead>\n",
       "    <tr style=\"text-align: right;\">\n",
       "      <th></th>\n",
       "      <th>Voter ID</th>\n",
       "      <th>County</th>\n",
       "      <th>Candidate</th>\n",
       "    </tr>\n",
       "  </thead>\n",
       "  <tbody>\n",
       "    <tr>\n",
       "      <th>0</th>\n",
       "      <td>12864552</td>\n",
       "      <td>Marsh</td>\n",
       "      <td>Khan</td>\n",
       "    </tr>\n",
       "    <tr>\n",
       "      <th>1</th>\n",
       "      <td>17444633</td>\n",
       "      <td>Marsh</td>\n",
       "      <td>Correy</td>\n",
       "    </tr>\n",
       "    <tr>\n",
       "      <th>2</th>\n",
       "      <td>19330107</td>\n",
       "      <td>Marsh</td>\n",
       "      <td>Khan</td>\n",
       "    </tr>\n",
       "    <tr>\n",
       "      <th>3</th>\n",
       "      <td>19865775</td>\n",
       "      <td>Queen</td>\n",
       "      <td>Khan</td>\n",
       "    </tr>\n",
       "    <tr>\n",
       "      <th>4</th>\n",
       "      <td>11927875</td>\n",
       "      <td>Marsh</td>\n",
       "      <td>Khan</td>\n",
       "    </tr>\n",
       "  </tbody>\n",
       "</table>\n",
       "</div>"
      ],
      "text/plain": [
       "   Voter ID County Candidate\n",
       "0  12864552  Marsh      Khan\n",
       "1  17444633  Marsh    Correy\n",
       "2  19330107  Marsh      Khan\n",
       "3  19865775  Queen      Khan\n",
       "4  11927875  Marsh      Khan"
      ]
     },
     "execution_count": 15,
     "metadata": {},
     "output_type": "execute_result"
    }
   ],
   "source": [
    "df.head()"
   ]
  },
  {
   "cell_type": "code",
   "execution_count": 16,
   "metadata": {},
   "outputs": [
    {
     "data": {
      "text/plain": [
       "3521001"
      ]
     },
     "execution_count": 16,
     "metadata": {},
     "output_type": "execute_result"
    }
   ],
   "source": [
    "len(df)"
   ]
  },
  {
   "cell_type": "code",
   "execution_count": 18,
   "metadata": {},
   "outputs": [
    {
     "name": "stdout",
     "output_type": "stream",
     "text": [
      "{'Khan': 2218231, 'Correy': 704200, 'Li': 492940, \"O'Tooley\": 105630}\n"
     ]
    }
   ],
   "source": [
    "print(Candidates)"
   ]
  },
  {
   "cell_type": "code",
   "execution_count": null,
   "metadata": {},
   "outputs": [],
   "source": []
  }
 ],
 "metadata": {
  "kernelspec": {
   "display_name": "Python 3",
   "language": "python",
   "name": "python3"
  },
  "language_info": {
   "codemirror_mode": {
    "name": "ipython",
    "version": 3
   },
   "file_extension": ".py",
   "mimetype": "text/x-python",
   "name": "python",
   "nbconvert_exporter": "python",
   "pygments_lexer": "ipython3",
   "version": "3.7.1"
  }
 },
 "nbformat": 4,
 "nbformat_minor": 2
}
